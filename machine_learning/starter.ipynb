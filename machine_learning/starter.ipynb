{
 "cells": [
  {
   "cell_type": "markdown",
   "metadata": {},
   "source": [
    "### Recieving Data\n",
    "- Data received from the db however it does\n",
    "- When the data is recieved place it in the space and update the clusters\n",
    "\n",
    "\n",
    "### Algorithm\n",
    "- only update clusters properly after 100 clicks\n",
    "    - otherwise use online method\n",
    "\n",
    "- let the category be the dimension and the number of clicks in it be the value in that dimension\n",
    "- $ \\therefore $ $ | $ categroies $ | $ = dim\n"
   ]
  },
  {
   "cell_type": "markdown",
   "metadata": {},
   "source": [
    "# Learning Functions"
   ]
  },
  {
   "cell_type": "code",
   "execution_count": 46,
   "metadata": {},
   "outputs": [],
   "source": [
    "import numpy as np\n",
    "\n",
    "## Getting random centroid values over the range of values in each dimension\n",
    "def init_centroids(k, min_pt, max_pt):\n",
    "    centroids = np.zeros([k, len(min_pt)])\n",
    "    for i in range(k):\n",
    "        centroids[i] = np.random.uniform(min_pt, max_pt)\n",
    "    return centroids\n",
    "\n",
    "## Distance from a point to each centroid\n",
    "def distance(point, other):\n",
    "\n",
    "    dist = np.zeros([other.shape[0], 1])\n",
    "    \n",
    "    for i in range(len(other)):\n",
    "        dist[i] = np.linalg.norm(point - other[i])\n",
    "    return np.sqrt(dist)\n",
    "\n",
    "## Checking if the assignment of centroids is the same as before\n",
    "## only check this after the first iteration\n",
    "def assignment_equality(A, B, it):\n",
    "    if(it == 0): return False\n",
    "\n",
    "    for i in range(len(A)):\n",
    "        try:\n",
    "            if not all(A[i] == B[i]): return(False)\n",
    "        except:\n",
    "            if not A[i] == B[i]: return(False)\n",
    "    \n",
    "    return(True)\n",
    "\n",
    "## perform clustering on data with k clusters\n",
    "def cluster(data, k):\n",
    "    min_pt, max_pt = np.zeros([data.shape[1]]), np.zeros([data.shape[1]]) # get range of data\n",
    "    centroids = init_centroids(k, min_pt, max_pt) # initialize centroids\n",
    "    old_centroids = init_centroids(k, min_pt, max_pt) # initial old centroids\n",
    "\n",
    "    assignments =[] # place each pixel index here depending on its assignment\n",
    "\n",
    "    for i in range(k):\n",
    "        assignments.append([]) ## add space for the k'th assignment\n",
    "\n",
    "    old_assignments = np.copy(assignments)\n",
    "    it = 0\n",
    "\n",
    "    ## clustering algorithm until old assignments are the same as the new ones\n",
    "    while not assignment_equality(assignments, old_assignments, it):\n",
    "        old_centroids = np.copy(centroids)\n",
    "        it += 1\n",
    "        old_assignments = np.copy(assignments)\n",
    "        assignments.clear()\n",
    "\n",
    "        for i in range(k):\n",
    "            assignments.append([]) ## add space for the k'th assignment\n",
    "\n",
    "        ## assign point to \"nearest centroid\"\n",
    "        for i, point in enumerate(data):\n",
    "            dist = distance(point, centroids) ## array of distances between each centroid\n",
    "            index = np.argmin(dist) ## index of nearest centroid\n",
    "            assignments[index].append(i)\n",
    "\n",
    "        ## recalculate centroids based on the avarage of points assigned to them\n",
    "        for i, a in enumerate(assignments):\n",
    "            if(len(a) > 0):\n",
    "                centroids[i] = np.zeros(np.shape(centroids[i]))\n",
    "                for v in a:\n",
    "                    centroids[i] += data[v] / len(a) ## do division here to prevent overflow\n",
    "        \n",
    "        \n",
    "\n",
    "    return assignments, centroids"
   ]
  },
  {
   "cell_type": "markdown",
   "metadata": {},
   "source": [
    "# Generate Data"
   ]
  },
  {
   "cell_type": "code",
   "execution_count": 47,
   "metadata": {},
   "outputs": [
    {
     "name": "stdout",
     "output_type": "stream",
     "text": [
      "[0.49734037216096016, 0.36269746212254056, -0.029928177157953532, 0.16670890489382828, -0.002885760621766459, 0.023703647987228293, -0.045978864527047345, 0.3053974538587287, -0.00176837691772945, 0.0871748391651032]\n",
      "[0.23824174615537358, 0.45981435868564596, -0.06743337805644038, 0.1795462471394482, 0.305756436521886, 0.30062358624173735, -0.04246516445136115, 0.32041692751333184, -0.03296461820779928, 0.18505195903781402]\n",
      "[0.38676087413246457, 0.33019792660766945, -0.08553771199601733, 0.31027706717041714, 0.11256508740965042, 0.1329445814397964, 0.04754022323033959, 0.2322542419945257, -0.09472851728439004, 0.17842831708027368]\n",
      "[0.3863095879128038, 0.2777782958601073, 0.0814972017869872, 0.1442374933916678, -0.05437628438840547, 0.07936612601258673, -0.03927378756309391, 0.42348491928714765, -0.028591016677655, 0.071788414242269]\n",
      "[0.33683595334496985, 0.5094727642069317, 0.12198832804286906, 0.3269331991601967, 0.0170542914517976, 0.04884902126704554, -0.07697757542184877, 0.42284362985329926, 0.17520399564570427, 0.16766847826364945]\n"
     ]
    }
   ],
   "source": [
    "num_categories = 10 ## number of categories\n",
    "\n",
    "def addPoint(point):\n",
    "    file = open(\"data.txt\", \"a\")\n",
    "    l = list(point)\n",
    "    print(l)\n",
    "    file.write(np.str(point)[2:-1] + \"\\n\")\n",
    "    file.close()\n",
    "\n",
    "def generate(example_point, n):\n",
    "    variance = np.ones(num_categories)*0.1\n",
    "    for i in range(n):\n",
    "        point = np.random.normal(example_point, variance, variance.shape[0])\n",
    "        addPoint(point)\n",
    "\n",
    "\n",
    "# 0 - CPU_Coolers\n",
    "# 1 - CPUs\n",
    "# 2 - Chassis\n",
    "# 3 - Graphics_Cards\n",
    "# 4 - Keyboards\n",
    "# 5 - Monitors\n",
    "# 6 - Mouses\n",
    "# 7 - Power_Supply_Unit\n",
    "# 8 - RAM\n",
    "# 9 - Storage\n",
    "\n",
    "## CPU + CPU COOLERS + PSU + RAM\n",
    "example_point = np.array([0.75, 0.40, 0.01, 0.2, 0.1, 0.1, 0.01, 0.3, 0.05, 0.05 ])\n",
    "generate(example_point=example_point, n=5)\n",
    "\n",
    "## CHASSIS AND CPU's AND Monitors\n",
    "example_point = np.array([0.10, 0.55, 0.80, 0.11, 0.1, 0.1, 0.3, 0.05, 0.05 ])\n",
    "generate(example_point=example_point, n=5)\n",
    "## Monitors + Graphics Cards\n",
    "example_point = np.array([0.35, 0.40, 0.01, 0.2, 0.1, 0.1, 0.01, 0.3, 0.05, 0.05 ])\n",
    "generate(example_point=example_point, n=5)\n",
    "## Mouses + Keyboards\n",
    "example_point = np.array([0.35, 0.40, 0.01, 0.2, 0.1, 0.1, 0.01, 0.3, 0.05, 0.05 ])\n",
    "generate(example_point=example_point, n=5)\n",
    "## Storage + RAM\n",
    "example_point = np.array([0.35, 0.40, 0.01, 0.2, 0.1, 0.1, 0.01, 0.3, 0.05, 0.05 ])\n",
    "generate(example_point=example_point, n=5)"
   ]
  },
  {
   "cell_type": "markdown",
   "metadata": {},
   "source": [
    "# Use Data"
   ]
  },
  {
   "cell_type": "code",
   "execution_count": 45,
   "metadata": {},
   "outputs": [],
   "source": [
    "##centroids, assignments = cluster(data)\n",
    "\n",
    "def getCluster(point):  \n",
    "    addPoint()\n",
    "    dist = distance(point, centroids)\n",
    "    return centroids[np.argmin(dist)]\n",
    "    \n",
    "\n"
   ]
  }
 ],
 "metadata": {
  "interpreter": {
   "hash": "ad2bdc8ecc057115af97d19610ffacc2b4e99fae6737bb82f5d7fb13d2f2c186"
  },
  "kernelspec": {
   "display_name": "Python 3.6.5 ('base')",
   "language": "python",
   "name": "python3"
  },
  "language_info": {
   "codemirror_mode": {
    "name": "ipython",
    "version": 3
   },
   "file_extension": ".py",
   "mimetype": "text/x-python",
   "name": "python",
   "nbconvert_exporter": "python",
   "pygments_lexer": "ipython3",
   "version": "3.6.5"
  },
  "orig_nbformat": 4
 },
 "nbformat": 4,
 "nbformat_minor": 2
}
