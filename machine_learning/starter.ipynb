{
 "cells": [
  {
   "cell_type": "markdown",
   "metadata": {},
   "source": [
    "### Recieving Data\n",
    "- Data received from the db however it does\n",
    "- When the data is recieved place it in the space and update the clusters\n",
    "\n",
    "\n",
    "### Algorithm\n",
    "- only update clusters properly after 100 clicks\n",
    "    - otherwise use online method\n",
    "\n",
    "- let the category be the dimension and the number of clicks in it be the value in that dimension\n",
    "- $ \\therefore $ $ | $ categroies $ | $ = dim\n"
   ]
  },
  {
   "cell_type": "markdown",
   "metadata": {},
   "source": [
    "# Generate Data"
   ]
  },
  {
   "cell_type": "code",
   "execution_count": 103,
   "metadata": {},
   "outputs": [],
   "source": [
    "num_categories = 10 ## number of categories\n",
    "\n",
    "def addPoint(point):\n",
    "    file = open(\"data.txt\", \"a\")\n",
    "    file.write(np.str(point)[2:-1].replace(\"\\n\", \"\") + \"\\n\")\n",
    "    file.close()\n",
    "\n",
    "\n",
    "def snap(point):\n",
    "    for i in range(len(point)):\n",
    "        if point[i] < 0:\n",
    "            point[i] = 1\n",
    "\n",
    "        if point[i] > 1:\n",
    "            point[i] = 1\n",
    "\n",
    "    return point\n",
    "\n",
    "def generate(example_point, n):\n",
    "    variance = np.ones(num_categories) * 0.1\n",
    "    for i in range(n):\n",
    "        point = snap(np.random.normal(example_point, variance, variance.shape[0]))\n",
    "        addPoint(point)\n",
    "\n",
    "\n",
    "# 0 - CPU_Coolers\n",
    "# 1 - CPUs\n",
    "# 2 - Chassis\n",
    "# 3 - Graphics_Cards\n",
    "# 4 - Keyboards\n",
    "# 5 - Monitors\n",
    "# 6 - Mouses\n",
    "# 7 - Power_Supply_Unit\n",
    "# 8 - RAM\n",
    "# 9 - Storage\n",
    "\n",
    "\n",
    "\n",
    "## CPU + CPU COOLERS + PSU + RAM\n",
    "example_point = np.array([ 0.75, 0.40, 0.01, 0.20, 0.10, 0.10, 0.01, 0.30, 0.05, 0.05 ])\n",
    "generate(example_point=example_point, n=10)\n",
    "\n",
    "## CHASSIS AND CPU's AND Monitors\n",
    "example_point = np.array([ 0.10, 0.55, 0.70, 0.11, 0.10, 0.65, 0.26, 0.27, 0.11, 0.53 ])\n",
    "generate(example_point=example_point, n=10)\n",
    "## Monitors + Graphics Cards\n",
    "example_point = np.array([ 0.01, 0.09, 0.10, 0.69, 0.78, 0.19, 0.01, 0.06, 0.03, 0.09])\n",
    "generate(example_point=example_point, n=10)\n",
    "## Mouses + Keyboards\n",
    "example_point = np.array([ 0.00, 0.00, 0.00, 0.00, 0.75, 0.00, 0.89, 0.00, 0.00, 0.00 ])\n",
    "generate(example_point=example_point, n=10)\n",
    "## Storage + RAM\n",
    "example_point = np.array([ 0.04, 0.30, 0.01, 0.20, 0.10, 0.10, 0.01, 0.03, 0.84, 0.69 ])\n",
    "generate(example_point=example_point, n=10)"
   ]
  }
 ],
 "metadata": {
  "interpreter": {
   "hash": "ad2bdc8ecc057115af97d19610ffacc2b4e99fae6737bb82f5d7fb13d2f2c186"
  },
  "kernelspec": {
   "display_name": "Python 3.6.5 ('base')",
   "language": "python",
   "name": "python3"
  },
  "language_info": {
   "codemirror_mode": {
    "name": "ipython",
    "version": 3
   },
   "file_extension": ".py",
   "mimetype": "text/x-python",
   "name": "python",
   "nbconvert_exporter": "python",
   "pygments_lexer": "ipython3",
   "version": "3.6.5"
  },
  "orig_nbformat": 4
 },
 "nbformat": 4,
 "nbformat_minor": 2
}
